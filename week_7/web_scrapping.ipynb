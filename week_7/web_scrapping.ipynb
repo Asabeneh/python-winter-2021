{
 "cells": [
  {
   "cell_type": "code",
   "execution_count": 65,
   "metadata": {},
   "outputs": [],
   "source": [
    "import urllib.request\n",
    "import requests\n",
    "from bs4 import BeautifulSoup\n",
    "\n",
    "url = 'http://www.bu.edu/president/boston-university-facts-stats/'\n",
    "\n",
    "# response = urllib.request.urlopen(url)\n",
    "response = requests.get(url)\n",
    "\n",
    "# print(response.status_code)\n",
    "content = response.content\n",
    " \n",
    "soup = BeautifulSoup(content,'html.parser')\n"
   ]
  },
  {
   "cell_type": "code",
   "execution_count": 66,
   "metadata": {},
   "outputs": [
    {
     "data": {
      "text/plain": [
       "'BU Facts & Stats | Office of the President'"
      ]
     },
     "execution_count": 66,
     "metadata": {},
     "output_type": "execute_result"
    }
   ],
   "source": [
    "soup.title.text"
   ]
  },
  {
   "cell_type": "code",
   "execution_count": 67,
   "metadata": {},
   "outputs": [],
   "source": [
    "some_text = soup.find('div', class_=\"textarea\").find('p')"
   ]
  },
  {
   "cell_type": "code",
   "execution_count": 68,
   "metadata": {},
   "outputs": [
    {
     "data": {
      "text/plain": [
       "'A quick, by-the-numbers overview of Boston University and our community for fiscal year 2020. '"
      ]
     },
     "execution_count": 68,
     "metadata": {},
     "output_type": "execute_result"
    }
   ],
   "source": [
    "some_text.text"
   ]
  },
  {
   "cell_type": "code",
   "execution_count": 69,
   "metadata": {},
   "outputs": [
    {
     "name": "stdout",
     "output_type": "stream",
     "text": [
      "[{'Faculty': '4,171',\n",
      "  'Graduate & Professional Students': '15,645',\n",
      "  'Living Alumni': '398,195',\n",
      "  'Nondegree Students': '2,008',\n",
      "  'Student Body': '34,589',\n",
      "  'Total Employees': '10,517',\n",
      "  'Undergraduate Students': '16,936',\n",
      "  'category': 'Community'},\n",
      " {'Buildings': '370',\n",
      "  'Campus Area (acres)': '169',\n",
      "  'Classrooms': '834',\n",
      "  'Laboratories': '1,681',\n",
      "  'Libraries': '21',\n",
      "  'category': 'Campus'},\n",
      " {'Average Class Size': '27',\n",
      "  'Faculty': '4,171',\n",
      "  'Programs of Study': '300+',\n",
      "  'Schools and Colleges': '17',\n",
      "  'Student/Faculty Ratio': '10:1',\n",
      "  'Study Abroad Programs': '70+',\n",
      "  'category': 'Academics'},\n",
      " {'BMC Clinical Research Grants': '$88.0M',\n",
      "  'Research Awards': '$574.1M',\n",
      "  'category': 'Grant & Contract Awards'},\n",
      " {'Average Need-Based Grant/Scholarship': '$40,969',\n",
      "  'Average Total Need-Based Financial Aid': '$46,252',\n",
      "  'Grants & Scholarships (need-based)': '$275.6M',\n",
      "  'Grants & Scholarships (non-need-based)': '$28.7M',\n",
      "  'category': 'Undergraduate Financial Aid & Scholarships'},\n",
      " {'Academic & Professional Organizations': '120+',\n",
      "  'Alternative Service Breaks Participants': '300+',\n",
      "  'Art & Performance Organizations': '60+',\n",
      "  'BU on Social': 'new accounts daily',\n",
      "  'Community Service & Justice Organizations': '80+',\n",
      "  'Community Service Hours': '1.6M+',\n",
      "  'Cultural & Religious Organizations': '60+',\n",
      "  'First-Year Student Outreach Project Volunteers': '800+',\n",
      "  'Student Organizations': '450+',\n",
      "  'category': 'Student Life'},\n",
      " {'Centers & Institutes': '130+',\n",
      "  'Faculty Publications': '6,000+',\n",
      "  'Student UROP Participants': '450+',\n",
      "  'category': 'Research'},\n",
      " {'Alumni Countries': '180+',\n",
      "  'Cultural Student Groups': '40+',\n",
      "  'Global Initiatives': '300+',\n",
      "  'International Students': '11,000+',\n",
      "  'category': 'International Community'},\n",
      " {'Club Sports Teams': '50',\n",
      "  'Club and Intramural Sports Participants': '7,000+',\n",
      "  'Intramural Sports & Tournaments': '15+',\n",
      "  'Varsity Sports': '24',\n",
      "  'category': 'Athletics'}]\n"
     ]
    }
   ],
   "source": [
    "from pprint import pprint\n",
    "import json\n",
    "sections = soup.find_all('section', class_=\"facts-categories\")\n",
    "\n",
    "data = []\n",
    "for section in sections:\n",
    "    wrappers = section.find_all('div')\n",
    "    for el in wrappers:\n",
    "        category =  el.find('h5').get_text()\n",
    "        ul_lst = el.find('ul')\n",
    "        dct = dict()\n",
    "        dct['category'] = category\n",
    "        for item in ul_lst:\n",
    "            if item.find('p') != -1 and item.find('span') != -1:\n",
    "                text = item.find('p').get_text()\n",
    "                value = item.find('span').get_text()\n",
    "                dct[text] = value\n",
    "        data.append(dct)\n",
    "pprint(data)\n",
    "json.dumps(data)\n",
    "with open('test_2.json', 'w') as f:\n",
    "    json.dump(data, f, indent=4)"
   ]
  }
 ],
 "metadata": {
  "kernelspec": {
   "display_name": "Python 3",
   "language": "python",
   "name": "python3"
  },
  "language_info": {
   "codemirror_mode": {
    "name": "ipython",
    "version": 3
   },
   "file_extension": ".py",
   "mimetype": "text/x-python",
   "name": "python",
   "nbconvert_exporter": "python",
   "pygments_lexer": "ipython3",
   "version": "3.8.5"
  }
 },
 "nbformat": 4,
 "nbformat_minor": 4
}
