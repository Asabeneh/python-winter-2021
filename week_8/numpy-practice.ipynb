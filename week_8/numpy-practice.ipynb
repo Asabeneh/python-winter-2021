{
 "cells": [
  {
   "cell_type": "markdown",
   "metadata": {},
   "source": [
    "# NumPy\n",
    "\n",
    "Numpy(Numerical Python) is the core library for scientific computing in Python. It provides a high-performance multidimensional array object, and tools for working with arrays. It contains the data structures needed for storing and accessing arrays. It has simple operations and functions for computation of arrays. In addition to numeric data types, NumPy can store other data types such as strings. Unlike lists, NumPy must have the same data types for all the items."
   ]
  },
  {
   "cell_type": "code",
   "execution_count": 71,
   "metadata": {},
   "outputs": [
    {
     "name": "stdout",
     "output_type": "stream",
     "text": [
      "1.19.2\n"
     ]
    }
   ],
   "source": [
    "# how import numpy\n",
    "import numpy as np\n",
    "from scipy import stats\n",
    "import matplotlib.pyplot as plt\n",
    "import seaborn as sns\n",
    "\n",
    "sns.set()\n",
    "\n",
    "\n",
    "print(np.__version__)"
   ]
  },
  {
   "cell_type": "code",
   "execution_count": 72,
   "metadata": {},
   "outputs": [],
   "source": [
    "nums = [1, 2, 3, 4, 5] \n",
    "\n"
   ]
  },
  {
   "cell_type": "code",
   "execution_count": 73,
   "metadata": {},
   "outputs": [],
   "source": [
    "np_array = np.array(nums)"
   ]
  },
  {
   "cell_type": "code",
   "execution_count": 74,
   "metadata": {},
   "outputs": [
    {
     "data": {
      "text/plain": [
       "array([1, 2, 3, 4, 5])"
      ]
     },
     "execution_count": 74,
     "metadata": {},
     "output_type": "execute_result"
    }
   ],
   "source": [
    "np_array"
   ]
  },
  {
   "cell_type": "code",
   "execution_count": 75,
   "metadata": {},
   "outputs": [
    {
     "data": {
      "text/plain": [
       "array([ 2,  4,  6,  8, 10])"
      ]
     },
     "execution_count": 75,
     "metadata": {},
     "output_type": "execute_result"
    }
   ],
   "source": [
    "np_array * 2"
   ]
  },
  {
   "cell_type": "code",
   "execution_count": 76,
   "metadata": {},
   "outputs": [
    {
     "data": {
      "text/plain": [
       "array([11, 12, 13, 14, 15])"
      ]
     },
     "execution_count": 76,
     "metadata": {},
     "output_type": "execute_result"
    }
   ],
   "source": [
    "np_array + 10"
   ]
  },
  {
   "cell_type": "code",
   "execution_count": 77,
   "metadata": {},
   "outputs": [],
   "source": [
    "data = [19, 20, 22, 33, 45, 60, 25, 24, 40, 20, 22, 24, 26, 26, 28, 27, 24, 35, 40, 40, 24, 38, 40, 28, 23]"
   ]
  },
  {
   "cell_type": "code",
   "execution_count": 78,
   "metadata": {},
   "outputs": [],
   "source": [
    "data = np.array(data)"
   ]
  },
  {
   "cell_type": "code",
   "execution_count": 79,
   "metadata": {},
   "outputs": [
    {
     "data": {
      "text/plain": [
       "30.12"
      ]
     },
     "execution_count": 79,
     "metadata": {},
     "output_type": "execute_result"
    }
   ],
   "source": [
    "np.mean(data)"
   ]
  },
  {
   "cell_type": "code",
   "execution_count": 80,
   "metadata": {},
   "outputs": [
    {
     "data": {
      "text/plain": [
       "9.67"
      ]
     },
     "execution_count": 80,
     "metadata": {},
     "output_type": "execute_result"
    }
   ],
   "source": [
    "round(np.std(data), 2)"
   ]
  },
  {
   "cell_type": "code",
   "execution_count": 81,
   "metadata": {},
   "outputs": [
    {
     "data": {
      "text/plain": [
       "26.0"
      ]
     },
     "execution_count": 81,
     "metadata": {},
     "output_type": "execute_result"
    }
   ],
   "source": [
    "np.median(data)"
   ]
  },
  {
   "cell_type": "code",
   "execution_count": 82,
   "metadata": {},
   "outputs": [
    {
     "data": {
      "text/plain": [
       "ModeResult(mode=array([24]), count=array([4]))"
      ]
     },
     "execution_count": 82,
     "metadata": {},
     "output_type": "execute_result"
    }
   ],
   "source": [
    "stats.mode(data)"
   ]
  },
  {
   "cell_type": "code",
   "execution_count": 83,
   "metadata": {},
   "outputs": [
    {
     "data": {
      "text/plain": [
       "93.5456"
      ]
     },
     "execution_count": 83,
     "metadata": {},
     "output_type": "execute_result"
    }
   ],
   "source": [
    "np.var(data)"
   ]
  },
  {
   "cell_type": "code",
   "execution_count": 84,
   "metadata": {},
   "outputs": [],
   "source": [
    "\n",
    "# y = m*x + b # linear equation, m- slope, y-intercept\n",
    "# yhat = w*x + b # machine learnng model, linear regression\n",
    "\n",
    "\n"
   ]
  },
  {
   "cell_type": "code",
   "execution_count": 95,
   "metadata": {},
   "outputs": [
    {
     "name": "stdout",
     "output_type": "stream",
     "text": [
      "[-10  -9  -8  -7  -6  -5  -4  -3  -2  -1   0   1   2   3   4   5   6   7\n",
      "   8   9]\n",
      "[-20 -18 -16 -14 -12 -10  -8  -6  -4  -2   0   2   4   6   8  10  12  14\n",
      "  16  18]\n"
     ]
    }
   ],
   "source": [
    "x = np.array(list(range(-10, 10,)))\n",
    "y = 2 * x\n",
    "print(x)\n",
    "print(y)"
   ]
  },
  {
   "cell_type": "code",
   "execution_count": 96,
   "metadata": {},
   "outputs": [
    {
     "data": {
      "text/plain": [
       "Text(0.5, 1.0, 'Temperature versus Pressure')"
      ]
     },
     "execution_count": 96,
     "metadata": {},
     "output_type": "execute_result"
    },
    {
     "data": {
      "image/png": "[encoded data removed]",
      "text/plain": [
       "<Figure size 432x288 with 1 Axes>"
      ]
     },
     "metadata": {},
     "output_type": "display_data"
    }
   ],
   "source": [
    "plt.scatter(x, y, c='purple')\n",
    "plt.xlabel('Temperature')\n",
    "plt.ylabel('Pressure')\n",
    "plt.title('Temperature versus Pressure')"
   ]
  },
  {
   "cell_type": "code",
   "execution_count": 101,
   "metadata": {},
   "outputs": [],
   "source": [
    "x = np.array(range(-10, 10))\n",
    "y = x ** 2 + 6 * x + 9"
   ]
  },
  {
   "cell_type": "code",
   "execution_count": 103,
   "metadata": {},
   "outputs": [
    {
     "data": {
      "text/plain": [
       "[<matplotlib.lines.Line2D at 0x292312b08b0>]"
      ]
     },
     "execution_count": 103,
     "metadata": {},
     "output_type": "execute_result"
    },
    {
     "data": {
      "image/png": "[encoded data removed]",
      "text/plain": [
       "<Figure size 432x288 with 1 Axes>"
      ]
     },
     "metadata": {},
     "output_type": "display_data"
    }
   ],
   "source": [
    "plt.plot(x, y)"
   ]
  },
  {
   "cell_type": "code",
   "execution_count": 106,
   "metadata": {},
   "outputs": [
    {
     "data": {
      "text/plain": [
       "<matplotlib.collections.PathCollection at 0x2922ff48640>"
      ]
     },
     "execution_count": 106,
     "metadata": {},
     "output_type": "execute_result"
    },
    {
     "data": {
      "image/png": "[encoded data removed]",
      "text/plain": [
       "<Figure size 432x288 with 1 Axes>"
      ]
     },
     "metadata": {},
     "output_type": "display_data"
    }
   ],
   "source": [
    "x = np.array(range(-10, 10))\n",
    "y = x ** 3 + 6 * x + 9\n",
    "plt.scatter(x, y)"
   ]
  },
  {
   "cell_type": "code",
   "execution_count": 121,
   "metadata": {},
   "outputs": [],
   "source": [
    "x = np.array([1, 2, 3, 0, -1], dtype=bool)"
   ]
  },
  {
   "cell_type": "code",
   "execution_count": 122,
   "metadata": {},
   "outputs": [
    {
     "name": "stdout",
     "output_type": "stream",
     "text": [
      "[ True  True  True False  True]\n"
     ]
    }
   ],
   "source": [
    "print(x)"
   ]
  },
  {
   "cell_type": "code",
   "execution_count": 120,
   "metadata": {},
   "outputs": [
    {
     "data": {
      "text/plain": [
       "array(['1', '2', '3'], dtype='<U1')"
      ]
     },
     "execution_count": 120,
     "metadata": {},
     "output_type": "execute_result"
    }
   ],
   "source": [
    "x"
   ]
  },
  {
   "cell_type": "code",
   "execution_count": 123,
   "metadata": {},
   "outputs": [
    {
     "data": {
      "text/plain": [
       "array([9.81, 3.14, 2.27])"
      ]
     },
     "execution_count": 123,
     "metadata": {},
     "output_type": "execute_result"
    }
   ],
   "source": [
    "y = np. array([9.81, 3.14, 2.27])\n",
    "y"
   ]
  },
  {
   "cell_type": "code",
   "execution_count": 125,
   "metadata": {},
   "outputs": [
    {
     "data": {
      "text/plain": [
       "array(['9.81', '3.14', '2.27'], dtype='<U32')"
      ]
     },
     "execution_count": 125,
     "metadata": {},
     "output_type": "execute_result"
    }
   ],
   "source": [
    "y.astype('str')"
   ]
  },
  {
   "cell_type": "code",
   "execution_count": 127,
   "metadata": {},
   "outputs": [],
   "source": [
    "two_dim_arr = np.array([[1, 2, 3], [4, 5, 6]])"
   ]
  },
  {
   "cell_type": "code",
   "execution_count": 128,
   "metadata": {},
   "outputs": [
    {
     "data": {
      "text/plain": [
       "array([[1, 2, 3],\n",
       "       [4, 5, 6]])"
      ]
     },
     "execution_count": 128,
     "metadata": {},
     "output_type": "execute_result"
    }
   ],
   "source": [
    "two_dim_arr"
   ]
  },
  {
   "cell_type": "code",
   "execution_count": 129,
   "metadata": {},
   "outputs": [
    {
     "data": {
      "text/plain": [
       "array([1, 2, 3])"
      ]
     },
     "execution_count": 129,
     "metadata": {},
     "output_type": "execute_result"
    }
   ],
   "source": [
    "two_dim_arr[0]"
   ]
  },
  {
   "cell_type": "code",
   "execution_count": 130,
   "metadata": {},
   "outputs": [
    {
     "data": {
      "text/plain": [
       "array([4, 5, 6])"
      ]
     },
     "execution_count": 130,
     "metadata": {},
     "output_type": "execute_result"
    }
   ],
   "source": [
    "two_dim_arr[1]"
   ]
  },
  {
   "cell_type": "code",
   "execution_count": 139,
   "metadata": {},
   "outputs": [
    {
     "data": {
      "text/plain": [
       "array([[2, 3],\n",
       "       [5, 6]])"
      ]
     },
     "execution_count": 139,
     "metadata": {},
     "output_type": "execute_result"
    }
   ],
   "source": [
    "two_dim_arr[0:2, 1:]"
   ]
  },
  {
   "cell_type": "code",
   "execution_count": 143,
   "metadata": {},
   "outputs": [
    {
     "data": {
      "text/plain": [
       "1"
      ]
     },
     "execution_count": 143,
     "metadata": {},
     "output_type": "execute_result"
    }
   ],
   "source": [
    "two_dim_arr[0][0]"
   ]
  },
  {
   "cell_type": "code",
   "execution_count": 144,
   "metadata": {},
   "outputs": [
    {
     "data": {
      "text/plain": [
       "1"
      ]
     },
     "execution_count": 144,
     "metadata": {},
     "output_type": "execute_result"
    }
   ],
   "source": [
    "two_dim_arr[0,0]"
   ]
  },
  {
   "cell_type": "code",
   "execution_count": 146,
   "metadata": {},
   "outputs": [
    {
     "data": {
      "text/plain": [
       "array([[4, 5, 6],\n",
       "       [1, 2, 3]])"
      ]
     },
     "execution_count": 146,
     "metadata": {},
     "output_type": "execute_result"
    }
   ],
   "source": [
    "two_dim_arr[::-1]"
   ]
  },
  {
   "cell_type": "code",
   "execution_count": 147,
   "metadata": {},
   "outputs": [
    {
     "data": {
      "text/plain": [
       "(2, 3)"
      ]
     },
     "execution_count": 147,
     "metadata": {},
     "output_type": "execute_result"
    }
   ],
   "source": [
    "two_dim_arr.shape"
   ]
  },
  {
   "cell_type": "code",
   "execution_count": 152,
   "metadata": {},
   "outputs": [
    {
     "data": {
      "text/plain": [
       "array([[0., 0., 0.],\n",
       "       [0., 0., 0.],\n",
       "       [0., 0., 0.]])"
      ]
     },
     "execution_count": 152,
     "metadata": {},
     "output_type": "execute_result"
    }
   ],
   "source": [
    "np.zeros((3,3), dtype=float)"
   ]
  },
  {
   "cell_type": "code",
   "execution_count": 155,
   "metadata": {},
   "outputs": [
    {
     "data": {
      "text/plain": [
       "array([[50., 50., 50.],\n",
       "       [50., 50., 50.],\n",
       "       [50., 50., 50.]])"
      ]
     },
     "execution_count": 155,
     "metadata": {},
     "output_type": "execute_result"
    }
   ],
   "source": [
    "np.ones((3,3), dtype=float) * 50"
   ]
  },
  {
   "cell_type": "code",
   "execution_count": 163,
   "metadata": {},
   "outputs": [
    {
     "data": {
      "text/plain": [
       "array([ 5.        ,  5.00500501,  5.01001001,  5.01501502,  5.02002002,\n",
       "        5.02502503,  5.03003003,  5.03503504,  5.04004004,  5.04504505,\n",
       "        5.05005005,  5.05505506,  5.06006006,  5.06506507,  5.07007007,\n",
       "        5.07507508,  5.08008008,  5.08508509,  5.09009009,  5.0950951 ,\n",
       "        5.1001001 ,  5.10510511,  5.11011011,  5.11511512,  5.12012012,\n",
       "        5.12512513,  5.13013013,  5.13513514,  5.14014014,  5.14514515,\n",
       "        5.15015015,  5.15515516,  5.16016016,  5.16516517,  5.17017017,\n",
       "        5.17517518,  5.18018018,  5.18518519,  5.19019019,  5.1951952 ,\n",
       "        5.2002002 ,  5.20520521,  5.21021021,  5.21521522,  5.22022022,\n",
       "        5.22522523,  5.23023023,  5.23523524,  5.24024024,  5.24524525,\n",
       "        5.25025025,  5.25525526,  5.26026026,  5.26526527,  5.27027027,\n",
       "        5.27527528,  5.28028028,  5.28528529,  5.29029029,  5.2952953 ,\n",
       "        5.3003003 ,  5.30530531,  5.31031031,  5.31531532,  5.32032032,\n",
       "        5.32532533,  5.33033033,  5.33533534,  5.34034034,  5.34534535,\n",
       "        5.35035035,  5.35535536,  5.36036036,  5.36536537,  5.37037037,\n",
       "        5.37537538,  5.38038038,  5.38538539,  5.39039039,  5.3953954 ,\n",
       "        5.4004004 ,  5.40540541,  5.41041041,  5.41541542,  5.42042042,\n",
       "        5.42542543,  5.43043043,  5.43543544,  5.44044044,  5.44544545,\n",
       "        5.45045045,  5.45545546,  5.46046046,  5.46546547,  5.47047047,\n",
       "        5.47547548,  5.48048048,  5.48548549,  5.49049049,  5.4954955 ,\n",
       "        5.5005005 ,  5.50550551,  5.51051051,  5.51551552,  5.52052052,\n",
       "        5.52552553,  5.53053053,  5.53553554,  5.54054054,  5.54554555,\n",
       "        5.55055055,  5.55555556,  5.56056056,  5.56556557,  5.57057057,\n",
       "        5.57557558,  5.58058058,  5.58558559,  5.59059059,  5.5955956 ,\n",
       "        5.6006006 ,  5.60560561,  5.61061061,  5.61561562,  5.62062062,\n",
       "        5.62562563,  5.63063063,  5.63563564,  5.64064064,  5.64564565,\n",
       "        5.65065065,  5.65565566,  5.66066066,  5.66566567,  5.67067067,\n",
       "        5.67567568,  5.68068068,  5.68568569,  5.69069069,  5.6956957 ,\n",
       "        5.7007007 ,  5.70570571,  5.71071071,  5.71571572,  5.72072072,\n",
       "        5.72572573,  5.73073073,  5.73573574,  5.74074074,  5.74574575,\n",
       "        5.75075075,  5.75575576,  5.76076076,  5.76576577,  5.77077077,\n",
       "        5.77577578,  5.78078078,  5.78578579,  5.79079079,  5.7957958 ,\n",
       "        5.8008008 ,  5.80580581,  5.81081081,  5.81581582,  5.82082082,\n",
       "        5.82582583,  5.83083083,  5.83583584,  5.84084084,  5.84584585,\n",
       "        5.85085085,  5.85585586,  5.86086086,  5.86586587,  5.87087087,\n",
       "        5.87587588,  5.88088088,  5.88588589,  5.89089089,  5.8958959 ,\n",
       "        5.9009009 ,  5.90590591,  5.91091091,  5.91591592,  5.92092092,\n",
       "        5.92592593,  5.93093093,  5.93593594,  5.94094094,  5.94594595,\n",
       "        5.95095095,  5.95595596,  5.96096096,  5.96596597,  5.97097097,\n",
       "        5.97597598,  5.98098098,  5.98598599,  5.99099099,  5.995996  ,\n",
       "        6.001001  ,  6.00600601,  6.01101101,  6.01601602,  6.02102102,\n",
       "        6.02602603,  6.03103103,  6.03603604,  6.04104104,  6.04604605,\n",
       "        6.05105105,  6.05605606,  6.06106106,  6.06606607,  6.07107107,\n",
       "        6.07607608,  6.08108108,  6.08608609,  6.09109109,  6.0960961 ,\n",
       "        6.1011011 ,  6.10610611,  6.11111111,  6.11611612,  6.12112112,\n",
       "        6.12612613,  6.13113113,  6.13613614,  6.14114114,  6.14614615,\n",
       "        6.15115115,  6.15615616,  6.16116116,  6.16616617,  6.17117117,\n",
       "        6.17617618,  6.18118118,  6.18618619,  6.19119119,  6.1961962 ,\n",
       "        6.2012012 ,  6.20620621,  6.21121121,  6.21621622,  6.22122122,\n",
       "        6.22622623,  6.23123123,  6.23623624,  6.24124124,  6.24624625,\n",
       "        6.25125125,  6.25625626,  6.26126126,  6.26626627,  6.27127127,\n",
       "        6.27627628,  6.28128128,  6.28628629,  6.29129129,  6.2962963 ,\n",
       "        6.3013013 ,  6.30630631,  6.31131131,  6.31631632,  6.32132132,\n",
       "        6.32632633,  6.33133133,  6.33633634,  6.34134134,  6.34634635,\n",
       "        6.35135135,  6.35635636,  6.36136136,  6.36636637,  6.37137137,\n",
       "        6.37637638,  6.38138138,  6.38638639,  6.39139139,  6.3963964 ,\n",
       "        6.4014014 ,  6.40640641,  6.41141141,  6.41641642,  6.42142142,\n",
       "        6.42642643,  6.43143143,  6.43643644,  6.44144144,  6.44644645,\n",
       "        6.45145145,  6.45645646,  6.46146146,  6.46646647,  6.47147147,\n",
       "        6.47647648,  6.48148148,  6.48648649,  6.49149149,  6.4964965 ,\n",
       "        6.5015015 ,  6.50650651,  6.51151151,  6.51651652,  6.52152152,\n",
       "        6.52652653,  6.53153153,  6.53653654,  6.54154154,  6.54654655,\n",
       "        6.55155155,  6.55655656,  6.56156156,  6.56656657,  6.57157157,\n",
       "        6.57657658,  6.58158158,  6.58658659,  6.59159159,  6.5965966 ,\n",
       "        6.6016016 ,  6.60660661,  6.61161161,  6.61661662,  6.62162162,\n",
       "        6.62662663,  6.63163163,  6.63663664,  6.64164164,  6.64664665,\n",
       "        6.65165165,  6.65665666,  6.66166166,  6.66666667,  6.67167167,\n",
       "        6.67667668,  6.68168168,  6.68668669,  6.69169169,  6.6966967 ,\n",
       "        6.7017017 ,  6.70670671,  6.71171171,  6.71671672,  6.72172172,\n",
       "        6.72672673,  6.73173173,  6.73673674,  6.74174174,  6.74674675,\n",
       "        6.75175175,  6.75675676,  6.76176176,  6.76676677,  6.77177177,\n",
       "        6.77677678,  6.78178178,  6.78678679,  6.79179179,  6.7967968 ,\n",
       "        6.8018018 ,  6.80680681,  6.81181181,  6.81681682,  6.82182182,\n",
       "        6.82682683,  6.83183183,  6.83683684,  6.84184184,  6.84684685,\n",
       "        6.85185185,  6.85685686,  6.86186186,  6.86686687,  6.87187187,\n",
       "        6.87687688,  6.88188188,  6.88688689,  6.89189189,  6.8968969 ,\n",
       "        6.9019019 ,  6.90690691,  6.91191191,  6.91691692,  6.92192192,\n",
       "        6.92692693,  6.93193193,  6.93693694,  6.94194194,  6.94694695,\n",
       "        6.95195195,  6.95695696,  6.96196196,  6.96696697,  6.97197197,\n",
       "        6.97697698,  6.98198198,  6.98698699,  6.99199199,  6.996997  ,\n",
       "        7.002002  ,  7.00700701,  7.01201201,  7.01701702,  7.02202202,\n",
       "        7.02702703,  7.03203203,  7.03703704,  7.04204204,  7.04704705,\n",
       "        7.05205205,  7.05705706,  7.06206206,  7.06706707,  7.07207207,\n",
       "        7.07707708,  7.08208208,  7.08708709,  7.09209209,  7.0970971 ,\n",
       "        7.1021021 ,  7.10710711,  7.11211211,  7.11711712,  7.12212212,\n",
       "        7.12712713,  7.13213213,  7.13713714,  7.14214214,  7.14714715,\n",
       "        7.15215215,  7.15715716,  7.16216216,  7.16716717,  7.17217217,\n",
       "        7.17717718,  7.18218218,  7.18718719,  7.19219219,  7.1971972 ,\n",
       "        7.2022022 ,  7.20720721,  7.21221221,  7.21721722,  7.22222222,\n",
       "        7.22722723,  7.23223223,  7.23723724,  7.24224224,  7.24724725,\n",
       "        7.25225225,  7.25725726,  7.26226226,  7.26726727,  7.27227227,\n",
       "        7.27727728,  7.28228228,  7.28728729,  7.29229229,  7.2972973 ,\n",
       "        7.3023023 ,  7.30730731,  7.31231231,  7.31731732,  7.32232232,\n",
       "        7.32732733,  7.33233233,  7.33733734,  7.34234234,  7.34734735,\n",
       "        7.35235235,  7.35735736,  7.36236236,  7.36736737,  7.37237237,\n",
       "        7.37737738,  7.38238238,  7.38738739,  7.39239239,  7.3973974 ,\n",
       "        7.4024024 ,  7.40740741,  7.41241241,  7.41741742,  7.42242242,\n",
       "        7.42742743,  7.43243243,  7.43743744,  7.44244244,  7.44744745,\n",
       "        7.45245245,  7.45745746,  7.46246246,  7.46746747,  7.47247247,\n",
       "        7.47747748,  7.48248248,  7.48748749,  7.49249249,  7.4974975 ,\n",
       "        7.5025025 ,  7.50750751,  7.51251251,  7.51751752,  7.52252252,\n",
       "        7.52752753,  7.53253253,  7.53753754,  7.54254254,  7.54754755,\n",
       "        7.55255255,  7.55755756,  7.56256256,  7.56756757,  7.57257257,\n",
       "        7.57757758,  7.58258258,  7.58758759,  7.59259259,  7.5975976 ,\n",
       "        7.6026026 ,  7.60760761,  7.61261261,  7.61761762,  7.62262262,\n",
       "        7.62762763,  7.63263263,  7.63763764,  7.64264264,  7.64764765,\n",
       "        7.65265265,  7.65765766,  7.66266266,  7.66766767,  7.67267267,\n",
       "        7.67767768,  7.68268268,  7.68768769,  7.69269269,  7.6976977 ,\n",
       "        7.7027027 ,  7.70770771,  7.71271271,  7.71771772,  7.72272272,\n",
       "        7.72772773,  7.73273273,  7.73773774,  7.74274274,  7.74774775,\n",
       "        7.75275275,  7.75775776,  7.76276276,  7.76776777,  7.77277277,\n",
       "        7.77777778,  7.78278278,  7.78778779,  7.79279279,  7.7977978 ,\n",
       "        7.8028028 ,  7.80780781,  7.81281281,  7.81781782,  7.82282282,\n",
       "        7.82782783,  7.83283283,  7.83783784,  7.84284284,  7.84784785,\n",
       "        7.85285285,  7.85785786,  7.86286286,  7.86786787,  7.87287287,\n",
       "        7.87787788,  7.88288288,  7.88788789,  7.89289289,  7.8978979 ,\n",
       "        7.9029029 ,  7.90790791,  7.91291291,  7.91791792,  7.92292292,\n",
       "        7.92792793,  7.93293293,  7.93793794,  7.94294294,  7.94794795,\n",
       "        7.95295295,  7.95795796,  7.96296296,  7.96796797,  7.97297297,\n",
       "        7.97797798,  7.98298298,  7.98798799,  7.99299299,  7.997998  ,\n",
       "        8.003003  ,  8.00800801,  8.01301301,  8.01801802,  8.02302302,\n",
       "        8.02802803,  8.03303303,  8.03803804,  8.04304304,  8.04804805,\n",
       "        8.05305305,  8.05805806,  8.06306306,  8.06806807,  8.07307307,\n",
       "        8.07807808,  8.08308308,  8.08808809,  8.09309309,  8.0980981 ,\n",
       "        8.1031031 ,  8.10810811,  8.11311311,  8.11811812,  8.12312312,\n",
       "        8.12812813,  8.13313313,  8.13813814,  8.14314314,  8.14814815,\n",
       "        8.15315315,  8.15815816,  8.16316316,  8.16816817,  8.17317317,\n",
       "        8.17817818,  8.18318318,  8.18818819,  8.19319319,  8.1981982 ,\n",
       "        8.2032032 ,  8.20820821,  8.21321321,  8.21821822,  8.22322322,\n",
       "        8.22822823,  8.23323323,  8.23823824,  8.24324324,  8.24824825,\n",
       "        8.25325325,  8.25825826,  8.26326326,  8.26826827,  8.27327327,\n",
       "        8.27827828,  8.28328328,  8.28828829,  8.29329329,  8.2982983 ,\n",
       "        8.3033033 ,  8.30830831,  8.31331331,  8.31831832,  8.32332332,\n",
       "        8.32832833,  8.33333333,  8.33833834,  8.34334334,  8.34834835,\n",
       "        8.35335335,  8.35835836,  8.36336336,  8.36836837,  8.37337337,\n",
       "        8.37837838,  8.38338338,  8.38838839,  8.39339339,  8.3983984 ,\n",
       "        8.4034034 ,  8.40840841,  8.41341341,  8.41841842,  8.42342342,\n",
       "        8.42842843,  8.43343343,  8.43843844,  8.44344344,  8.44844845,\n",
       "        8.45345345,  8.45845846,  8.46346346,  8.46846847,  8.47347347,\n",
       "        8.47847848,  8.48348348,  8.48848849,  8.49349349,  8.4984985 ,\n",
       "        8.5035035 ,  8.50850851,  8.51351351,  8.51851852,  8.52352352,\n",
       "        8.52852853,  8.53353353,  8.53853854,  8.54354354,  8.54854855,\n",
       "        8.55355355,  8.55855856,  8.56356356,  8.56856857,  8.57357357,\n",
       "        8.57857858,  8.58358358,  8.58858859,  8.59359359,  8.5985986 ,\n",
       "        8.6036036 ,  8.60860861,  8.61361361,  8.61861862,  8.62362362,\n",
       "        8.62862863,  8.63363363,  8.63863864,  8.64364364,  8.64864865,\n",
       "        8.65365365,  8.65865866,  8.66366366,  8.66866867,  8.67367367,\n",
       "        8.67867868,  8.68368368,  8.68868869,  8.69369369,  8.6986987 ,\n",
       "        8.7037037 ,  8.70870871,  8.71371371,  8.71871872,  8.72372372,\n",
       "        8.72872873,  8.73373373,  8.73873874,  8.74374374,  8.74874875,\n",
       "        8.75375375,  8.75875876,  8.76376376,  8.76876877,  8.77377377,\n",
       "        8.77877878,  8.78378378,  8.78878879,  8.79379379,  8.7987988 ,\n",
       "        8.8038038 ,  8.80880881,  8.81381381,  8.81881882,  8.82382382,\n",
       "        8.82882883,  8.83383383,  8.83883884,  8.84384384,  8.84884885,\n",
       "        8.85385385,  8.85885886,  8.86386386,  8.86886887,  8.87387387,\n",
       "        8.87887888,  8.88388388,  8.88888889,  8.89389389,  8.8988989 ,\n",
       "        8.9039039 ,  8.90890891,  8.91391391,  8.91891892,  8.92392392,\n",
       "        8.92892893,  8.93393393,  8.93893894,  8.94394394,  8.94894895,\n",
       "        8.95395395,  8.95895896,  8.96396396,  8.96896897,  8.97397397,\n",
       "        8.97897898,  8.98398398,  8.98898899,  8.99399399,  8.998999  ,\n",
       "        9.004004  ,  9.00900901,  9.01401401,  9.01901902,  9.02402402,\n",
       "        9.02902903,  9.03403403,  9.03903904,  9.04404404,  9.04904905,\n",
       "        9.05405405,  9.05905906,  9.06406406,  9.06906907,  9.07407407,\n",
       "        9.07907908,  9.08408408,  9.08908909,  9.09409409,  9.0990991 ,\n",
       "        9.1041041 ,  9.10910911,  9.11411411,  9.11911912,  9.12412412,\n",
       "        9.12912913,  9.13413413,  9.13913914,  9.14414414,  9.14914915,\n",
       "        9.15415415,  9.15915916,  9.16416416,  9.16916917,  9.17417417,\n",
       "        9.17917918,  9.18418418,  9.18918919,  9.19419419,  9.1991992 ,\n",
       "        9.2042042 ,  9.20920921,  9.21421421,  9.21921922,  9.22422422,\n",
       "        9.22922923,  9.23423423,  9.23923924,  9.24424424,  9.24924925,\n",
       "        9.25425425,  9.25925926,  9.26426426,  9.26926927,  9.27427427,\n",
       "        9.27927928,  9.28428428,  9.28928929,  9.29429429,  9.2992993 ,\n",
       "        9.3043043 ,  9.30930931,  9.31431431,  9.31931932,  9.32432432,\n",
       "        9.32932933,  9.33433433,  9.33933934,  9.34434434,  9.34934935,\n",
       "        9.35435435,  9.35935936,  9.36436436,  9.36936937,  9.37437437,\n",
       "        9.37937938,  9.38438438,  9.38938939,  9.39439439,  9.3993994 ,\n",
       "        9.4044044 ,  9.40940941,  9.41441441,  9.41941942,  9.42442442,\n",
       "        9.42942943,  9.43443443,  9.43943944,  9.44444444,  9.44944945,\n",
       "        9.45445445,  9.45945946,  9.46446446,  9.46946947,  9.47447447,\n",
       "        9.47947948,  9.48448448,  9.48948949,  9.49449449,  9.4994995 ,\n",
       "        9.5045045 ,  9.50950951,  9.51451451,  9.51951952,  9.52452452,\n",
       "        9.52952953,  9.53453453,  9.53953954,  9.54454454,  9.54954955,\n",
       "        9.55455455,  9.55955956,  9.56456456,  9.56956957,  9.57457457,\n",
       "        9.57957958,  9.58458458,  9.58958959,  9.59459459,  9.5995996 ,\n",
       "        9.6046046 ,  9.60960961,  9.61461461,  9.61961962,  9.62462462,\n",
       "        9.62962963,  9.63463463,  9.63963964,  9.64464464,  9.64964965,\n",
       "        9.65465465,  9.65965966,  9.66466466,  9.66966967,  9.67467467,\n",
       "        9.67967968,  9.68468468,  9.68968969,  9.69469469,  9.6996997 ,\n",
       "        9.7047047 ,  9.70970971,  9.71471471,  9.71971972,  9.72472472,\n",
       "        9.72972973,  9.73473473,  9.73973974,  9.74474474,  9.74974975,\n",
       "        9.75475475,  9.75975976,  9.76476476,  9.76976977,  9.77477477,\n",
       "        9.77977978,  9.78478478,  9.78978979,  9.79479479,  9.7997998 ,\n",
       "        9.8048048 ,  9.80980981,  9.81481481,  9.81981982,  9.82482482,\n",
       "        9.82982983,  9.83483483,  9.83983984,  9.84484484,  9.84984985,\n",
       "        9.85485485,  9.85985986,  9.86486486,  9.86986987,  9.87487487,\n",
       "        9.87987988,  9.88488488,  9.88988989,  9.89489489,  9.8998999 ,\n",
       "        9.9049049 ,  9.90990991,  9.91491491,  9.91991992,  9.92492492,\n",
       "        9.92992993,  9.93493493,  9.93993994,  9.94494494,  9.94994995,\n",
       "        9.95495495,  9.95995996,  9.96496496,  9.96996997,  9.97497497,\n",
       "        9.97997998,  9.98498498,  9.98998999,  9.99499499, 10.        ])"
      ]
     },
     "execution_count": 163,
     "metadata": {},
     "output_type": "execute_result"
    }
   ],
   "source": []
  },
  {
   "cell_type": "code",
   "execution_count": 165,
   "metadata": {},
   "outputs": [
    {
     "data": {
      "text/plain": [
       "<matplotlib.collections.PathCollection at 0x292313ecd90>"
      ]
     },
     "execution_count": 165,
     "metadata": {},
     "output_type": "execute_result"
    },
    {
     "data": {
      "image/png": "[encoded data removed]",
      "text/plain": [
       "<Figure size 432x288 with 1 Axes>"
      ]
     },
     "metadata": {},
     "output_type": "display_data"
    }
   ],
   "source": [
    "x = np.linspace(-5, 5, num=10)\n",
    "y = 2 * x + 5\n",
    "plt.scatter(x, y , c='orange')"
   ]
  },
  {
   "cell_type": "code",
   "execution_count": 174,
   "metadata": {},
   "outputs": [],
   "source": [
    "data = np.random.normal(5, 2, 100000)"
   ]
  },
  {
   "cell_type": "code",
   "execution_count": 176,
   "metadata": {},
   "outputs": [
    {
     "data": {
      "image/png": "[encoded data removed]",
      "text/plain": [
       "<Figure size 432x288 with 1 Axes>"
      ]
     },
     "metadata": {},
     "output_type": "display_data"
    }
   ],
   "source": [
    "plt.hist(data, bins=100)\n",
    "plt.show()"
   ]
  },
  {
   "cell_type": "code",
   "execution_count": null,
   "metadata": {},
   "outputs": [],
   "source": []
  }
 ],
 "metadata": {
  "kernelspec": {
   "display_name": "Python 3",
   "language": "python",
   "name": "python3"
  },
  "language_info": {
   "codemirror_mode": {
    "name": "ipython",
    "version": 3
   },
   "file_extension": ".py",
   "mimetype": "text/x-python",
   "name": "python",
   "nbconvert_exporter": "python",
   "pygments_lexer": "ipython3",
   "version": "3.8.5"
  }
 },
 "nbformat": 4,
 "nbformat_minor": 4
}
